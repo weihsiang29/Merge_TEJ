{
 "cells": [
  {
   "cell_type": "code",
   "execution_count": 3,
   "metadata": {},
   "outputs": [
    {
     "name": "stdout",
     "output_type": "stream",
     "text": [
      "合併完成，檔案已儲存為 TESG_Merged.xlsx\n"
     ]
    }
   ],
   "source": [
    "import pandas as pd\n",
    "\n",
    "# 讀取 Excel 檔案\n",
    "tesg_df = pd.read_excel(\"TESG.xlsx\")\n",
    "roa_df = pd.read_excel(\"ROA.xlsx\")\n",
    "\n",
    "# 選取 ROA.xlsx 中需要的欄位\n",
    "roa_df = roa_df[[\"ID\", \"Year\", \"ROE(A)－稅後\", \"研究發展費用率\"]]\n",
    "\n",
    "# 透過 ID & Year 進行左合併\n",
    "merged_df = tesg_df.merge(roa_df, on=[\"ID\", \"Year\"], how=\"left\")\n",
    "\n",
    "# 儲存結果\n",
    "merged_df.to_excel(\"TESG_Merged.xlsx\", index=False)\n",
    "\n",
    "print(\"合併完成，檔案已儲存為 TESG_Merged.xlsx\")\n"
   ]
  },
  {
   "cell_type": "code",
   "execution_count": 2,
   "metadata": {},
   "outputs": [
    {
     "name": "stdout",
     "output_type": "stream",
     "text": [
      "Index(['證券代碼', '年月', 'TESG分數', '環境構面分數', '社會構面分數', '公司治理構面分數', 'TESG評等公告日',\n",
      "       'ID', 'Name', '年月.1'],\n",
      "      dtype='object')\n"
     ]
    }
   ],
   "source": [
    "print(tesg_df.columns)"
   ]
  }
 ],
 "metadata": {
  "kernelspec": {
   "display_name": "program3",
   "language": "python",
   "name": "python3"
  },
  "language_info": {
   "codemirror_mode": {
    "name": "ipython",
    "version": 3
   },
   "file_extension": ".py",
   "mimetype": "text/x-python",
   "name": "python",
   "nbconvert_exporter": "python",
   "pygments_lexer": "ipython3",
   "version": "3.12.7"
  }
 },
 "nbformat": 4,
 "nbformat_minor": 2
}
